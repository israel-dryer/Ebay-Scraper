{
 "cells": [
  {
   "cell_type": "markdown",
   "metadata": {},
   "source": [
    "# Ebay Scraper"
   ]
  },
  {
   "cell_type": "code",
   "execution_count": 1,
   "metadata": {},
   "outputs": [],
   "source": [
    "import csv\n",
    "import requests\n",
    "from lxml import html"
   ]
  },
  {
   "cell_type": "code",
   "execution_count": 2,
   "metadata": {},
   "outputs": [],
   "source": [
    "def get_page_items(tree):\n",
    "    container = tree.xpath(\"//ul[contains(@class, 'srp-results')]\")\n",
    "    if container:\n",
    "        return container[0].xpath(\".//li[contains(@class, 's-item')]\")\n",
    "    else:\n",
    "        return []"
   ]
  },
  {
   "cell_type": "code",
   "execution_count": 3,
   "metadata": {},
   "outputs": [],
   "source": [
    "def create_search_record(item):\n",
    "    title = \"\".join(item.xpath(\".//h3/text()\"))\n",
    "    sub_title = \"\".join(item.xpath(\".//div[@class='s-item__subtitle']/text()\"))\n",
    "    sub_title += \" \" + \"\".join(item.xpath(\".//div[@class='s-item__subtitle']//span[@class='SECONDARY_INFO']/text()\"))\n",
    "    rating = \"\".join(item.xpath(\".//div[@class='x-star-rating']//span[@class='clipped']/text()\"))\n",
    "    item_price = \"\".join(item.xpath(\".//span[@class='s-item__price']/text()\"))\n",
    "    trending_price = \"\".join(item.xpath(\".//span[@class='s-item__trending-price']/span[@class='STRIKETHROUGH']/text()\"))\n",
    "    item_link = \"\".join(item.xpath(\".//a[@class='s-item__link']/@href\"))\n",
    "    return (title, sub_title, rating, item_price, trending_price, item_link)"
   ]
  },
  {
   "cell_type": "code",
   "execution_count": 4,
   "metadata": {},
   "outputs": [],
   "source": [
    "def get_next_page(tree):\n",
    "    return \"\".join(tree.xpath(\"//a[@class='pagination__next']/@href\"))"
   ]
  },
  {
   "cell_type": "code",
   "execution_count": 5,
   "metadata": {},
   "outputs": [],
   "source": [
    "def search_ebay(keywords):\n",
    "    url = \"https://www.ebay.com/sch/i.html?&_nkw=\" + keywords.replace(\" \", \"+\")\n",
    "    response = requests.get(url)\n",
    "\n",
    "    # get first page\n",
    "    etree = html.fromstring(response.text)\n",
    "    page_data = []\n",
    "\n",
    "    # get remaining pages if existing\n",
    "    while True:\n",
    "        items = get_page_items(etree)\n",
    "        if not items:\n",
    "            break\n",
    "\n",
    "        for item in items:\n",
    "            page_data.append(create_search_record(item))\n",
    "\n",
    "        next_page = get_next_page(etree)\n",
    "        if not next_page:\n",
    "            break\n",
    "\n",
    "        response = requests.get(next_page)\n",
    "        if response.status_code != 200:\n",
    "            break\n",
    "\n",
    "        etree = html.fromstring(response.text)\n",
    "\n",
    "    return page_data"
   ]
  },
  {
   "cell_type": "code",
   "execution_count": 6,
   "metadata": {},
   "outputs": [],
   "source": [
    "def save_results(records, filename, save_method='w'):\n",
    "    with open(filename, save_method, newline='', encoding='utf-8') as f:\n",
    "        writer = csv.writer(f)\n",
    "        writer.writerow(['Title', 'SubTitle', 'Rating', 'ItemPrice', 'TrendingPrice', 'ItemLink'])\n",
    "        writer.writerows(records)"
   ]
  },
  {
   "cell_type": "code",
   "execution_count": 7,
   "metadata": {},
   "outputs": [],
   "source": [
    "# run the program\n",
    "\n",
    "results = search_ebay('curved monitor')\n",
    "\n",
    "if results:\n",
    "    save_results(results, 'curved_monitor.csv')"
   ]
  },
  {
   "cell_type": "code",
   "execution_count": 8,
   "metadata": {},
   "outputs": [
    {
     "data": {
      "text/plain": [
       "[('Deco Gear 35\" Curved Ultrawide LED Gaming Monitor Crisp 2560X1080 HD',\n",
       "  'Authorized Deco Gear Dealer w USA Warranty! Ships Fast! Brand New',\n",
       "  '5.0 out of 5 stars.',\n",
       "  '$309.99',\n",
       "  '$649.99',\n",
       "  'https://www.ebay.com/itm/Deco-Gear-35-Curved-Ultrawide-LED-Gaming-Monitor-Crisp-2560X1080-HD/333335017371?epid=27029108979&_trkparms=ispr%3D1&hash=item4d9c50b79b:g:tkIAAOSwdtRdhAZG&amdata=enc%3AAQAFAAACcBaobrjLl8XobRIiIML1V4Imu%252Fn%252BzU5L90Z278x5ickkCrLl8erj3ATP5raQxjc%252F%252B0nHYso%252BW3yGz6OulOpZGXxrm2acZsg%252BR%252FpfaZ5jr4KFG1MmLofGglWqwSzLXv0nGcpz0HJwFmLYG%252Fps25XxVC1c9fZ5PryaMCuRseTJpquhvMIipQG8ekBZTPEBJ9V7hV%252BydYzp2QO8cz75GTWFFHGf5NlDoeHryLO60wzrVMPO8JfDOY%252BWa5OEnZNbk2i7EUeJdJdPSJGJo7jM6A%252BHtkXHjjWwPdfWZ0HtLaRcaQXtwAg8XCgZWuNis9X8wSNPFx%252BBj6V17bPh%252BJ6uocmFHynroUu%252BszZmTJnw9ROCoXBQzg3MS%252FR4sBF2WfXRcaZmO2VTHrUCw29UJb7JK2MZiot2NBsV%252F1uIsLfDaEHMAOGZrfngvNvSv1g2owrskN0veQMlNO5aZFubdYore2%252Fk4tlc%252B5Uf3mHKfIMtaIgViclZfC2FRtWHc1XRvzmPsOaGa5RRu00oPBLLhSxZPIxow36zFX04lOvlmS4digrsZW%252FhjmQPRGwvff6mwOjfRBquc%252BsZVX%252B1yw%252FPJI%252FujcwVpgA0TmpvuK2Zdc%252Fvb33hryl1uhY0iPrDuTtWQjwTlHlPr7RACCR5pyWCZpLfTopkVaRB890QDZ2kCDkuL%252BdMysMlQJcym5FawqVfzJaHUImWuYnn9U8XSwOWk26Gspuc21cz0XGei47c3vafJmS7jtSst%252Bbr5V7v9rdBq6reQUKyzBPwN0gjhJc3wfJYEcF6zNkj2UQSKvVHGQzQjfzIpB%252Fpq9rsmkhMBj%252Bj5a%252BkAP6MCA%253D%253D%7Ccksum%3A333335017371c7274b654e1148a9a8456b5537a8b5fb%7Campid%3APL_CLK%7Cclp%3A2334524'),\n",
       " ('NEW Acer 32\" Curved AMD FREESYNC 1ms 165 Hz FHD 1920x1080 Gaming Monitor HDMI DP',\n",
       "  'Free & Fast Shipping| Top Quality| Check our Feedback!! Brand New',\n",
       "  '4.5 out of 5 stars.',\n",
       "  '$279.99',\n",
       "  '$409.99',\n",
       "  'https://www.ebay.com/itm/NEW-Acer-32-Curved-AMD-FREESYNC-1ms-165-Hz-FHD-1920x1080-Gaming-Monitor-HDMI-DP/193743432590?epid=10042311941&_trkparms=ispr%3D1&hash=item2d1c022b8e:g:Vc4AAOSw5JdfznAF:sc:ShippingMethodStandard!28278!US!-1&amdata=enc%3AAQAFAAACcBaobrjLl8XobRIiIML1V4Imu%252Fn%252BzU5L90Z278x5ickkfKe2vUidqHRg3XM2X2xOVA73i4ppjbYXSAs%252B1T6OOfAl2kdLtcqK6VW1lm8M4FR%252F5Blgtftxy1pf087UHrMKgDYDpNC8F%252F%252BXU7xnTDnSZqTtSed2lkoFwCiFPt0YptD8pOtouqGT%252Fz94Cbx3Tc9ldPHyab55budTUXfYWYHMqFIpFt8A6RCgTbRnaogIL3BqXpUqdaUYJ4oQRucu%252BnhHXrl14qz5enHWNQBo6o5hU208XzcrHMaht0xHM3zzge73QrsPC3h8onvPi4aZZ9yy023V%252FQBP1%252BeJdPpNHptULJ%252FLkWt4rZqr%252F9PkKZibtd%252FnnCHcdcXHwtd1NWDxX2LtVHrnms%252Ba5F%252Fa9IExrrcRjtwp8QzAkDe9zfJU6jCl2N4jMmorCQJbHmh5iqi7rLkfa3J38cusv0SZN0XhkzYZAeC%252FlFkil0WOU1TOSvVqoXDgImAe%252FlzOVH65dkSNP0I7CAwKJorvX5JkKBeCsUjopuQUMTfPxJ5VjoRHC7v55KIkqzfQ3yWnjaOH0KF%252B4dFsA9AadtJ9%252FakPF7rydGAv1kNU%252Bg0RPzCFOLASTX0jyEnAPoiQIcWdLjPnKk3He4ZlVb%252BmLC9J%252FP0bRdvOBTfzexPoMKmgDoitQGZNuPpPKZpDRKv0BwB8ZVS0M8MAbDpnszSVn%252Bid7je2WNN%252FuXrCogrEjvU%252FGSVPRLLFACGOR%252FlmgNUT7sTNAgZ2wM96Oq3JormlAfx9OcqfefnsW2n%252FDYnROhXsisSS%252F4SS%252FQU6uSisNAA6pNPzeQqqWM%252BeHSb1CA%253D%253D%7Ccksum%3A193743432590c7274b654e1148a9a8456b5537a8b5fb%7Campid%3APL_CLK%7Cclp%3A2334524'),\n",
       " ('AOC C27G2 27\" Curved Gaming Monitor FHD, 1500R Curved VA,1ms, 165Hz (Renewed)',\n",
       "  ' Refurbished',\n",
       "  '4.5 out of 5 stars.',\n",
       "  '$195.87',\n",
       "  '',\n",
       "  'https://www.ebay.com/itm/AOC-C27G2-27-Curved-Gaming-Monitor-FHD-1500R-Curved-VA-1ms-165Hz-Renewed/264923982505?epid=24041810758&_trkparms=ispr%3D1&hash=item3daeb32aa9:g:o8UAAOSwEflfocLB&amdata=enc%3AAQAFAAACcBaobrjLl8XobRIiIML1V4Imu%252Fn%252BzU5L90Z278x5ickkXKoKcbeZcOrOku%252BoOBl%252BSzyh8PxqyhACwKhvfi7L0aXXpp0rG2b%252FS0%252FRNWPUSlyuU1kd1Plts1iThqUXN81bvENmiwiyrqYtrkslYaVQjkg0mfjZZIGVtfd2B%252FX9imNP%252B1I9GgcXH192BPWwCqL%252FMGcJiYgE%252B%252FnDly8LrIPbYC4hj4Ese3HRnIdCkmcgDg0zsBic8mDQc8f2NEb2BxoaecEj4gtgn3Yrb4JYFldHNyyqnJL8frZAwiZqV6ZREpkNKjum7PYNsuqDdDY9uHn9esAZnMYBIxHnGQ6e1Emkcndzmomd5aAQYe3gdYxy3pRBF9RGIUsVIQaR%252F6mqno3ugi3xKKA6dC6MAsrDan4HisK7IItnPO7tAdkoIhg8TQZMLziyxt6t9ruYK1WBj3%252Fjnf1E2gtCrpbuDR0N78lCaYsxGzKB6kfwSxVAAyfu0uYdjFk%252FEwAguZGd4Fd1BvhXUwysndCTakMIoAG7YJMJBHYP%252BD%252FCDCxBem%252B5XsXWVUDH%252BAcz5Sy1SypcxPy2RLMLKaliVZOkNrpl7f%252F7B0Ys8gHA8qeJNUXjj6kTIW8Eztsadt7H00Jx0lmCrt9i0R5z7b2RA6AGU5wcLXsV2gp45qGgc1XqYWdVteJNUqMWugTougNtSylYCsOsiPGx4Yf%252BinwkfKeUzeDEzTWKm6VNFMCXSTRKY3nUka68RTeWLjHJ1icaYUUvlV3eMP6vdxKVQ4X7Ltdp7123Kg%252F6Vo%252BWv71R9b3FP%252BgHbrgqfBKYSZhU8Ttl7IF9e9D1Hy7BwsJyUQ%253D%253D%7Ccksum%3A264923982505c7274b654e1148a9a8456b5537a8b5fb%7Campid%3APL_CLK%7Cclp%3A2334524')]"
      ]
     },
     "execution_count": 8,
     "metadata": {},
     "output_type": "execute_result"
    }
   ],
   "source": [
    "# show the first few results\n",
    "results[:3]"
   ]
  }
 ],
 "metadata": {
  "kernelspec": {
   "display_name": "Python 3",
   "language": "python",
   "name": "python3"
  },
  "language_info": {
   "codemirror_mode": {
    "name": "ipython",
    "version": 3
   },
   "file_extension": ".py",
   "mimetype": "text/x-python",
   "name": "python",
   "nbconvert_exporter": "python",
   "pygments_lexer": "ipython3",
   "version": "3.8.3"
  }
 },
 "nbformat": 4,
 "nbformat_minor": 4
}
